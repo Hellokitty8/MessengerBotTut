{
 "cells": [
  {
   "cell_type": "markdown",
   "metadata": {},
   "source": [
    "# CHATBOT AUTOMATION BOOTCAMP\n",
    "\n",
    "# ***Part-4***\n",
    "\n",
    "![](https://wac-cdn.atlassian.com/dam/jcr:18e24c93-8cee-4b85-a43e-06d427fb5928/icon-deploy.png?cdnVersion=ga)\n",
    "\n",
    "In this part, we are gonna do:\n",
    "- Heroku deployment"
   ]
  },
  {
   "cell_type": "markdown",
   "metadata": {},
   "source": [
    "## We need to create some new files first!\n",
    "\n",
    "### 1. Procfile\n",
    "A Procfile is a mechanism for declaring what commands are run by your application's dynos on the Heroku platform.\n",
    "\n",
    "```\n",
    "web gunicorn app:app\n",
    "```\n",
    "\n",
    "### 2. runtime.txt\n",
    "\n",
    "To specify a particular version of Python via your app's runtime.txt\n",
    "\n",
    "```\n",
    "python-3.6.3\n",
    "```\n",
    "\n",
    "### 3. requirements.txt\n",
    "\n",
    "Contains all 3rd party libraries required by your app.\n",
    "\n",
    "Simply do:\n",
    "```\n",
    "$ pip freeze > requirements.txt\n",
    "```\n",
    "\n",
    "to generate a **requirements.txt** file.\n",
    "\n",
    "### 4. .gitignore\n",
    "\n",
    ".gitignore file specifies patterns which are used to exclude certain files in your working directory from your Git history.\n",
    "\n",
    "```\n",
    "\\venv\n",
    "*.pyc\n",
    "```"
   ]
  },
  {
   "cell_type": "markdown",
   "metadata": {},
   "source": [
    "## Now, its time to create a Heroku app!\n",
    "\n",
    "```\n",
    "heroku create <your-app-name>\n",
    "```\n",
    "\n",
    "Initialize a new git repository in your project folder and commit all the files.\n",
    "\n",
    "And then, deploy!\n",
    "\n",
    "```\n",
    "git push heroku master\n",
    "```\n",
    "\n",
    "**Note:** Don't forget to reset the webhook with the URL of your new heroku app!"
   ]
  }
 ],
 "metadata": {
  "kernelspec": {
   "display_name": "Python 3",
   "language": "python",
   "name": "python3"
  },
  "language_info": {
   "codemirror_mode": {
    "name": "ipython",
    "version": 3
   },
   "file_extension": ".py",
   "mimetype": "text/x-python",
   "name": "python",
   "nbconvert_exporter": "python",
   "pygments_lexer": "ipython3",
   "version": "3.6.3"
  }
 },
 "nbformat": 4,
 "nbformat_minor": 2
}
