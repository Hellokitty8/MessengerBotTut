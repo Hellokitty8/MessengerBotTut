{
 "cells": [
  {
   "cell_type": "markdown",
   "metadata": {},
   "source": [
    "# CHATBOT AUTOMATION BOOTCAMP\n",
    "\n",
    "# ***DAY 2***\n",
    "\n",
    "![](https://cdn-images-1.medium.com/max/2000/1*pIxBBG6O7C5NfjnrepIFBQ.png)\n",
    "\n",
    "Agenda for today:\n",
    "\n",
    "- Explore AIML\n",
    "- Explore FB templates"
   ]
  },
  {
   "cell_type": "markdown",
   "metadata": {},
   "source": [
    "## AIML (Artificial Intelligence Markup Language)\n",
    "\n",
    "[Download from here](https://code.google.com/archive/p/aiml-en-us-foundation-alice/downloads)\n",
    "\n",
    "![](https://www.researchgate.net/profile/Maria_Morales-Rodriguez/publication/220887117/figure/fig4/AS:305521820225540@1449853486737/Fig-4-Tags-Structure-in-AIML-Language.png)\n",
    "\n",
    "\n",
    "### Python client for AIML\n",
    "\n",
    "Python 2:\n",
    "\n",
    "```\n",
    "pip install aiml\n",
    "```\n",
    "\n",
    "Python 3:\n",
    "\n",
    "```\n",
    "git clone https://github.com/weddige/pyaiml3.git\n",
    "cd pyaiml3\n",
    "pip install -U .\n",
    "```"
   ]
  },
  {
   "cell_type": "markdown",
   "metadata": {},
   "source": [
    "## FB "
   ]
  }
 ],
 "metadata": {
  "kernelspec": {
   "display_name": "Python 3",
   "language": "python",
   "name": "python3"
  },
  "language_info": {
   "codemirror_mode": {
    "name": "ipython",
    "version": 3
   },
   "file_extension": ".py",
   "mimetype": "text/x-python",
   "name": "python",
   "nbconvert_exporter": "python",
   "pygments_lexer": "ipython3",
   "version": "3.5.3"
  }
 },
 "nbformat": 4,
 "nbformat_minor": 2
}
