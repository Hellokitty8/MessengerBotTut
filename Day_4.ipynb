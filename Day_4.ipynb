{
 "cells": [
  {
   "cell_type": "markdown",
   "metadata": {},
   "source": [
    "# CHATBOT AUTOMATION BOOTCAMP\n",
    "\n",
    "# ***DAY 4***\n",
    "\n",
    "![](https://wac-cdn.atlassian.com/dam/jcr:18e24c93-8cee-4b85-a43e-06d427fb5928/icon-deploy.png?cdnVersion=ga)\n",
    "\n",
    "Agenda for today:\n",
    "- MongoDB integration\n",
    "- Heroku deployment"
   ]
  },
  {
   "cell_type": "markdown",
   "metadata": {},
   "source": [
    "## mongoDB integration\n",
    "\n",
    "![](http://technotip.com/wp-content/uploads/mongoDB/logo-mongodb-tagline.png)\n",
    "\n",
    "\n",
    "https://docs.mongodb.com/manual/introduction/\n",
    "\n",
    ">MongoDB is an open source database that uses a document-oriented data model. MongoDB is one of several database types to arise in the mid-2000s under the NoSQL banner. Instead of using tables and rows as in relational databases, MongoDB is built on an architecture of collections and documents.\n",
    "\n",
    "\n",
    "\n",
    "### mLab (500 MB free!)\n",
    "\n",
    "<img src=\"https://mlab.com/company/brand/img/downloads/mLab-logo-onlight.png\" height=300 width=400>\n",
    "\n",
    "https://mlab.com/\n",
    "\n",
    ">mLab is a fully managed cloud database service that hosts MongoDB databases.\n",
    "\n",
    "\n",
    "### mongoDB python client\n",
    "\n",
    "```\n",
    "pip install pymongo\n",
    "```\n",
    "\n",
    "### Setting up connection with mLab server\n",
    "\n",
    "```python\n",
    "MONGODB_URI = \"YOUR mongoDB URI here\"\n",
    "client = MongoClient(MONGODB_URI, connectTimeoutMS=30000, socketTimeoutMS=None, socketKeepAlive=True)\n",
    "db = client.get_default_database()\n",
    "users = db._users\n",
    "```\n",
    "\n",
    "### Functions to do operations on DB\n",
    "\n",
    "```python\n",
    "def getRECORDS(user_id):\n",
    "    records = news_records.find({\"sender_id\":user_id})\n",
    "    return records\n",
    "\n",
    "def pushRECORD(record):\n",
    "    news_records.insert_one(record)\n",
    "```"
   ]
  }
 ],
 "metadata": {
  "kernelspec": {
   "display_name": "Python 3",
   "language": "python",
   "name": "python3"
  },
  "language_info": {
   "codemirror_mode": {
    "name": "ipython",
    "version": 3
   },
   "file_extension": ".py",
   "mimetype": "text/x-python",
   "name": "python",
   "nbconvert_exporter": "python",
   "pygments_lexer": "ipython3",
   "version": "3.5.3"
  }
 },
 "nbformat": 4,
 "nbformat_minor": 2
}
